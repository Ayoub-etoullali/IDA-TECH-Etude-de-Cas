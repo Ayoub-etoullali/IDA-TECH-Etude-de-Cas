{
 "cells": [
  {
   "cell_type": "markdown",
   "id": "a072554b",
   "metadata": {},
   "source": [
    "# Data"
   ]
  },
  {
   "cell_type": "code",
   "execution_count": 218,
   "id": "c0ffa6c8",
   "metadata": {},
   "outputs": [],
   "source": [
    "import pandas as pd\n",
    "from sklearn.linear_model import LinearRegression \n",
    "from sklearn.model_selection import train_test_split\n",
    "from sklearn.ensemble import RandomForestRegressor\n",
    "from sklearn.neural_network import MLPRegressor\n",
    "from sklearn.metrics import mean_squared_error\n",
    "from sklearn.impute import SimpleImputer\n",
    "import matplotlib.pyplot as plt"
   ]
  },
  {
   "cell_type": "code",
   "execution_count": 140,
   "id": "0b1ce165",
   "metadata": {},
   "outputs": [],
   "source": [
    "# Chargement des données depuis la feuille correspondante dans le fichier Excel\n",
    "df_Indices_Généraux = pd.read_excel('data/Dataset.xlsx', sheet_name='Indices Généraux')\n",
    "df_Avoirs_officiels_de_réserve = pd.read_excel('data/Dataset.xlsx', sheet_name='Avoirs officiels de réserve')\n",
    "df_CHANGE = pd.read_excel('data/Dataset.xlsx', sheet_name='CHANGE')\n",
    "df_MONIA = pd.read_excel('data/Dataset.xlsx', sheet_name='MONIA')\n",
    "df_TMP = pd.read_excel('data/Dataset.xlsx', sheet_name='TMP')\n",
    "df_Inlfation = pd.read_excel('data/Dataset.xlsx', sheet_name='Inlfation')\n",
    "df_Indices_Taux = pd.read_excel('data/Dataset.xlsx', sheet_name='Indices Taux')\n",
    "df_Indices_Sectorielles = pd.read_excel('data/Dataset.xlsx', sheet_name='Indices Sectorielles')"
   ]
  },
  {
   "cell_type": "code",
   "execution_count": 141,
   "id": "f1a6582e",
   "metadata": {},
   "outputs": [
    {
     "name": "stdout",
     "output_type": "stream",
     "text": [
      "Indices Généraux\n"
     ]
    },
    {
     "data": {
      "text/html": [
       "<div>\n",
       "<style scoped>\n",
       "    .dataframe tbody tr th:only-of-type {\n",
       "        vertical-align: middle;\n",
       "    }\n",
       "\n",
       "    .dataframe tbody tr th {\n",
       "        vertical-align: top;\n",
       "    }\n",
       "\n",
       "    .dataframe thead th {\n",
       "        text-align: right;\n",
       "    }\n",
       "</style>\n",
       "<table border=\"1\" class=\"dataframe\">\n",
       "  <thead>\n",
       "    <tr style=\"text-align: right;\">\n",
       "      <th></th>\n",
       "      <th>SEANCE</th>\n",
       "      <th>INDICE</th>\n",
       "      <th>COURS_CLOTURE</th>\n",
       "      <th>COURS_PLUS_HAUT</th>\n",
       "      <th>COURS_PLUS_BAS</th>\n",
       "      <th>COURS_OUVERTURE</th>\n",
       "      <th>COURS_VEILLE</th>\n",
       "      <th>VARIATION</th>\n",
       "    </tr>\n",
       "  </thead>\n",
       "  <tbody>\n",
       "    <tr>\n",
       "      <th>0</th>\n",
       "      <td>2023-12-08 00:00:00.000</td>\n",
       "      <td>MASI</td>\n",
       "      <td>11885.32</td>\n",
       "      <td>11885.32</td>\n",
       "      <td>11824.97</td>\n",
       "      <td>11827.02</td>\n",
       "      <td>11827.02</td>\n",
       "      <td>0.49</td>\n",
       "    </tr>\n",
       "    <tr>\n",
       "      <th>1</th>\n",
       "      <td>2023-12-07 00:00:00.000</td>\n",
       "      <td>MASI</td>\n",
       "      <td>11827.02</td>\n",
       "      <td>11827.02</td>\n",
       "      <td>11757.60</td>\n",
       "      <td>11757.60</td>\n",
       "      <td>11757.60</td>\n",
       "      <td>0.59</td>\n",
       "    </tr>\n",
       "    <tr>\n",
       "      <th>2</th>\n",
       "      <td>2023-12-06 00:00:00.000</td>\n",
       "      <td>MASI</td>\n",
       "      <td>11757.60</td>\n",
       "      <td>11792.95</td>\n",
       "      <td>11718.07</td>\n",
       "      <td>11759.51</td>\n",
       "      <td>11759.51</td>\n",
       "      <td>-0.02</td>\n",
       "    </tr>\n",
       "    <tr>\n",
       "      <th>3</th>\n",
       "      <td>2023-12-05 00:00:00.000</td>\n",
       "      <td>MASI</td>\n",
       "      <td>11759.51</td>\n",
       "      <td>11785.10</td>\n",
       "      <td>11709.49</td>\n",
       "      <td>11728.06</td>\n",
       "      <td>11728.06</td>\n",
       "      <td>0.27</td>\n",
       "    </tr>\n",
       "    <tr>\n",
       "      <th>4</th>\n",
       "      <td>2023-12-04 00:00:00.000</td>\n",
       "      <td>MASI</td>\n",
       "      <td>11728.06</td>\n",
       "      <td>11769.43</td>\n",
       "      <td>11702.27</td>\n",
       "      <td>11748.19</td>\n",
       "      <td>11748.19</td>\n",
       "      <td>-0.17</td>\n",
       "    </tr>\n",
       "  </tbody>\n",
       "</table>\n",
       "</div>"
      ],
      "text/plain": [
       "                    SEANCE INDICE  COURS_CLOTURE  COURS_PLUS_HAUT  \\\n",
       "0  2023-12-08 00:00:00.000   MASI       11885.32         11885.32   \n",
       "1  2023-12-07 00:00:00.000   MASI       11827.02         11827.02   \n",
       "2  2023-12-06 00:00:00.000   MASI       11757.60         11792.95   \n",
       "3  2023-12-05 00:00:00.000   MASI       11759.51         11785.10   \n",
       "4  2023-12-04 00:00:00.000   MASI       11728.06         11769.43   \n",
       "\n",
       "   COURS_PLUS_BAS  COURS_OUVERTURE  COURS_VEILLE  VARIATION  \n",
       "0        11824.97         11827.02      11827.02       0.49  \n",
       "1        11757.60         11757.60      11757.60       0.59  \n",
       "2        11718.07         11759.51      11759.51      -0.02  \n",
       "3        11709.49         11728.06      11728.06       0.27  \n",
       "4        11702.27         11748.19      11748.19      -0.17  "
      ]
     },
     "execution_count": 141,
     "metadata": {},
     "output_type": "execute_result"
    }
   ],
   "source": [
    "# Exploration rapide des données\n",
    "print(\"Indices Généraux\")\n",
    "df_Indices_Généraux.head()"
   ]
  },
  {
   "cell_type": "code",
   "execution_count": 142,
   "id": "fbd07f17",
   "metadata": {},
   "outputs": [
    {
     "name": "stdout",
     "output_type": "stream",
     "text": [
      "Avoirs officiels de réserve\n"
     ]
    },
    {
     "data": {
      "text/html": [
       "<div>\n",
       "<style scoped>\n",
       "    .dataframe tbody tr th:only-of-type {\n",
       "        vertical-align: middle;\n",
       "    }\n",
       "\n",
       "    .dataframe tbody tr th {\n",
       "        vertical-align: top;\n",
       "    }\n",
       "\n",
       "    .dataframe thead th {\n",
       "        text-align: right;\n",
       "    }\n",
       "</style>\n",
       "<table border=\"1\" class=\"dataframe\">\n",
       "  <thead>\n",
       "    <tr style=\"text-align: right;\">\n",
       "      <th></th>\n",
       "      <th>DATE</th>\n",
       "      <th>AVOIRS_OFFICIELS_DE_RESERVE</th>\n",
       "      <th>OR_MONETAIRE</th>\n",
       "      <th>MONNAIES_ETRANGERES</th>\n",
       "      <th>DEPOTS_ET_TITRES</th>\n",
       "      <th>POSITION_DE_RESERVE_AU_FMI</th>\n",
       "      <th>AVOIRS_EN_DTS</th>\n",
       "    </tr>\n",
       "  </thead>\n",
       "  <tbody>\n",
       "    <tr>\n",
       "      <th>0</th>\n",
       "      <td>2023-11-24 00:00:00.000</td>\n",
       "      <td>353.425989</td>\n",
       "      <td>14.340808</td>\n",
       "      <td>10.652710</td>\n",
       "      <td>306.761348</td>\n",
       "      <td>1.982553</td>\n",
       "      <td>19.688569</td>\n",
       "    </tr>\n",
       "    <tr>\n",
       "      <th>1</th>\n",
       "      <td>2023-11-17 00:00:00.000</td>\n",
       "      <td>354.640840</td>\n",
       "      <td>14.367116</td>\n",
       "      <td>11.156796</td>\n",
       "      <td>307.408937</td>\n",
       "      <td>1.985926</td>\n",
       "      <td>19.722065</td>\n",
       "    </tr>\n",
       "    <tr>\n",
       "      <th>2</th>\n",
       "      <td>2023-11-10 00:00:00.000</td>\n",
       "      <td>354.343008</td>\n",
       "      <td>14.224199</td>\n",
       "      <td>10.500546</td>\n",
       "      <td>307.910884</td>\n",
       "      <td>1.985870</td>\n",
       "      <td>19.721509</td>\n",
       "    </tr>\n",
       "    <tr>\n",
       "      <th>3</th>\n",
       "      <td>2023-11-03 00:00:00.000</td>\n",
       "      <td>356.217190</td>\n",
       "      <td>14.495102</td>\n",
       "      <td>10.381617</td>\n",
       "      <td>309.361444</td>\n",
       "      <td>1.986924</td>\n",
       "      <td>19.992103</td>\n",
       "    </tr>\n",
       "    <tr>\n",
       "      <th>4</th>\n",
       "      <td>2023-11-02 00:00:00.000</td>\n",
       "      <td>354.366401</td>\n",
       "      <td>14.500079</td>\n",
       "      <td>9.561621</td>\n",
       "      <td>308.357670</td>\n",
       "      <td>1.984031</td>\n",
       "      <td>19.962999</td>\n",
       "    </tr>\n",
       "  </tbody>\n",
       "</table>\n",
       "</div>"
      ],
      "text/plain": [
       "                      DATE  AVOIRS_OFFICIELS_DE_RESERVE  OR_MONETAIRE  \\\n",
       "0  2023-11-24 00:00:00.000                   353.425989     14.340808   \n",
       "1  2023-11-17 00:00:00.000                   354.640840     14.367116   \n",
       "2  2023-11-10 00:00:00.000                   354.343008     14.224199   \n",
       "3  2023-11-03 00:00:00.000                   356.217190     14.495102   \n",
       "4  2023-11-02 00:00:00.000                   354.366401     14.500079   \n",
       "\n",
       "   MONNAIES_ETRANGERES  DEPOTS_ET_TITRES  POSITION_DE_RESERVE_AU_FMI  \\\n",
       "0            10.652710        306.761348                    1.982553   \n",
       "1            11.156796        307.408937                    1.985926   \n",
       "2            10.500546        307.910884                    1.985870   \n",
       "3            10.381617        309.361444                    1.986924   \n",
       "4             9.561621        308.357670                    1.984031   \n",
       "\n",
       "   AVOIRS_EN_DTS  \n",
       "0      19.688569  \n",
       "1      19.722065  \n",
       "2      19.721509  \n",
       "3      19.992103  \n",
       "4      19.962999  "
      ]
     },
     "execution_count": 142,
     "metadata": {},
     "output_type": "execute_result"
    }
   ],
   "source": [
    "# Exploration rapide des données\n",
    "print(\"Avoirs officiels de réserve\")\n",
    "df_Avoirs_officiels_de_réserve.head()"
   ]
  },
  {
   "cell_type": "code",
   "execution_count": 143,
   "id": "d42e2533",
   "metadata": {},
   "outputs": [
    {
     "name": "stdout",
     "output_type": "stream",
     "text": [
      "CHANGE\n"
     ]
    },
    {
     "data": {
      "text/html": [
       "<div>\n",
       "<style scoped>\n",
       "    .dataframe tbody tr th:only-of-type {\n",
       "        vertical-align: middle;\n",
       "    }\n",
       "\n",
       "    .dataframe tbody tr th {\n",
       "        vertical-align: top;\n",
       "    }\n",
       "\n",
       "    .dataframe thead th {\n",
       "        text-align: right;\n",
       "    }\n",
       "</style>\n",
       "<table border=\"1\" class=\"dataframe\">\n",
       "  <thead>\n",
       "    <tr style=\"text-align: right;\">\n",
       "      <th></th>\n",
       "      <th>DATE_D'EXTRACTION</th>\n",
       "      <th>Date</th>\n",
       "      <th>Heure</th>\n",
       "      <th>Devises</th>\n",
       "      <th>Cours Minimum</th>\n",
       "      <th>Cours Maximum</th>\n",
       "    </tr>\n",
       "  </thead>\n",
       "  <tbody>\n",
       "    <tr>\n",
       "      <th>0</th>\n",
       "      <td>2023-12-08 15:04:16.000</td>\n",
       "      <td>2023-12-08 00:00:00.000</td>\n",
       "      <td>08:30:00.0000000</td>\n",
       "      <td>1 Dollar u.s.a.</td>\n",
       "      <td>9.4657</td>\n",
       "      <td>10.4621</td>\n",
       "    </tr>\n",
       "    <tr>\n",
       "      <th>1</th>\n",
       "      <td>2023-12-08 15:04:16.000</td>\n",
       "      <td>2023-12-08 00:00:00.000</td>\n",
       "      <td>11:54:52.0000000</td>\n",
       "      <td>1 Dollar u.s.a.</td>\n",
       "      <td>9.4610</td>\n",
       "      <td>10.4569</td>\n",
       "    </tr>\n",
       "    <tr>\n",
       "      <th>2</th>\n",
       "      <td>2023-12-07 15:04:21.000</td>\n",
       "      <td>2023-12-07 00:00:00.000</td>\n",
       "      <td>08:30:00.0000000</td>\n",
       "      <td>1 Dollar u.s.a.</td>\n",
       "      <td>9.4681</td>\n",
       "      <td>10.4648</td>\n",
       "    </tr>\n",
       "    <tr>\n",
       "      <th>3</th>\n",
       "      <td>2023-12-07 15:04:21.000</td>\n",
       "      <td>2023-12-07 00:00:00.000</td>\n",
       "      <td>11:54:59.0000000</td>\n",
       "      <td>1 Dollar u.s.a.</td>\n",
       "      <td>9.4679</td>\n",
       "      <td>10.4645</td>\n",
       "    </tr>\n",
       "    <tr>\n",
       "      <th>4</th>\n",
       "      <td>2023-12-06 15:05:57.000</td>\n",
       "      <td>2023-12-06 00:00:00.000</td>\n",
       "      <td>08:30:00.0000000</td>\n",
       "      <td>1 Dollar u.s.a.</td>\n",
       "      <td>9.4607</td>\n",
       "      <td>10.4566</td>\n",
       "    </tr>\n",
       "  </tbody>\n",
       "</table>\n",
       "</div>"
      ],
      "text/plain": [
       "         DATE_D'EXTRACTION                     Date             Heure  \\\n",
       "0  2023-12-08 15:04:16.000  2023-12-08 00:00:00.000  08:30:00.0000000   \n",
       "1  2023-12-08 15:04:16.000  2023-12-08 00:00:00.000  11:54:52.0000000   \n",
       "2  2023-12-07 15:04:21.000  2023-12-07 00:00:00.000  08:30:00.0000000   \n",
       "3  2023-12-07 15:04:21.000  2023-12-07 00:00:00.000  11:54:59.0000000   \n",
       "4  2023-12-06 15:05:57.000  2023-12-06 00:00:00.000  08:30:00.0000000   \n",
       "\n",
       "           Devises  Cours Minimum  Cours Maximum  \n",
       "0  1 Dollar u.s.a.         9.4657        10.4621  \n",
       "1  1 Dollar u.s.a.         9.4610        10.4569  \n",
       "2  1 Dollar u.s.a.         9.4681        10.4648  \n",
       "3  1 Dollar u.s.a.         9.4679        10.4645  \n",
       "4  1 Dollar u.s.a.         9.4607        10.4566  "
      ]
     },
     "execution_count": 143,
     "metadata": {},
     "output_type": "execute_result"
    }
   ],
   "source": [
    "# Exploration rapide des données\n",
    "print(\"CHANGE\")\n",
    "df_CHANGE.head()"
   ]
  },
  {
   "cell_type": "code",
   "execution_count": 144,
   "id": "2ec1b60a",
   "metadata": {},
   "outputs": [
    {
     "name": "stdout",
     "output_type": "stream",
     "text": [
      "MONIA\n"
     ]
    },
    {
     "data": {
      "text/html": [
       "<div>\n",
       "<style scoped>\n",
       "    .dataframe tbody tr th:only-of-type {\n",
       "        vertical-align: middle;\n",
       "    }\n",
       "\n",
       "    .dataframe tbody tr th {\n",
       "        vertical-align: top;\n",
       "    }\n",
       "\n",
       "    .dataframe thead th {\n",
       "        text-align: right;\n",
       "    }\n",
       "</style>\n",
       "<table border=\"1\" class=\"dataframe\">\n",
       "  <thead>\n",
       "    <tr style=\"text-align: right;\">\n",
       "      <th></th>\n",
       "      <th>Date de référence</th>\n",
       "      <th>Indice MONIA</th>\n",
       "      <th>Volume JJ</th>\n",
       "    </tr>\n",
       "  </thead>\n",
       "  <tbody>\n",
       "    <tr>\n",
       "      <th>0</th>\n",
       "      <td>2023-12-06 00:00:00.000</td>\n",
       "      <td>2.936</td>\n",
       "      <td>10072</td>\n",
       "    </tr>\n",
       "    <tr>\n",
       "      <th>1</th>\n",
       "      <td>2023-12-05 00:00:00.000</td>\n",
       "      <td>2.969</td>\n",
       "      <td>7015</td>\n",
       "    </tr>\n",
       "    <tr>\n",
       "      <th>2</th>\n",
       "      <td>2023-12-04 00:00:00.000</td>\n",
       "      <td>2.955</td>\n",
       "      <td>9010</td>\n",
       "    </tr>\n",
       "    <tr>\n",
       "      <th>3</th>\n",
       "      <td>2023-12-01 00:00:00.000</td>\n",
       "      <td>2.919</td>\n",
       "      <td>11834</td>\n",
       "    </tr>\n",
       "    <tr>\n",
       "      <th>4</th>\n",
       "      <td>2023-11-30 00:00:00.000</td>\n",
       "      <td>2.953</td>\n",
       "      <td>8483</td>\n",
       "    </tr>\n",
       "  </tbody>\n",
       "</table>\n",
       "</div>"
      ],
      "text/plain": [
       "         Date de référence  Indice MONIA  Volume JJ\n",
       "0  2023-12-06 00:00:00.000         2.936      10072\n",
       "1  2023-12-05 00:00:00.000         2.969       7015\n",
       "2  2023-12-04 00:00:00.000         2.955       9010\n",
       "3  2023-12-01 00:00:00.000         2.919      11834\n",
       "4  2023-11-30 00:00:00.000         2.953       8483"
      ]
     },
     "execution_count": 144,
     "metadata": {},
     "output_type": "execute_result"
    }
   ],
   "source": [
    "# Exploration rapide des données\n",
    "print(\"MONIA\")\n",
    "df_MONIA.head()"
   ]
  },
  {
   "cell_type": "code",
   "execution_count": 145,
   "id": "2b87ed28",
   "metadata": {},
   "outputs": [
    {
     "name": "stdout",
     "output_type": "stream",
     "text": [
      "TMP\n"
     ]
    },
    {
     "data": {
      "text/html": [
       "<div>\n",
       "<style scoped>\n",
       "    .dataframe tbody tr th:only-of-type {\n",
       "        vertical-align: middle;\n",
       "    }\n",
       "\n",
       "    .dataframe tbody tr th {\n",
       "        vertical-align: top;\n",
       "    }\n",
       "\n",
       "    .dataframe thead th {\n",
       "        text-align: right;\n",
       "    }\n",
       "</style>\n",
       "<table border=\"1\" class=\"dataframe\">\n",
       "  <thead>\n",
       "    <tr style=\"text-align: right;\">\n",
       "      <th></th>\n",
       "      <th>SEANCE</th>\n",
       "      <th>TAUX MOYEN PONDERE</th>\n",
       "      <th>VOLUME JJ</th>\n",
       "      <th>ENCOURS</th>\n",
       "    </tr>\n",
       "  </thead>\n",
       "  <tbody>\n",
       "    <tr>\n",
       "      <th>0</th>\n",
       "      <td>2023-12-07 00:00:00.000</td>\n",
       "      <td>3.0</td>\n",
       "      <td>2199.0</td>\n",
       "      <td>7769</td>\n",
       "    </tr>\n",
       "    <tr>\n",
       "      <th>1</th>\n",
       "      <td>2023-12-06 00:00:00.000</td>\n",
       "      <td>3.0</td>\n",
       "      <td>2389.0</td>\n",
       "      <td>7669</td>\n",
       "    </tr>\n",
       "    <tr>\n",
       "      <th>2</th>\n",
       "      <td>2023-12-05 00:00:00.000</td>\n",
       "      <td>3.0</td>\n",
       "      <td>3022.0</td>\n",
       "      <td>8302</td>\n",
       "    </tr>\n",
       "    <tr>\n",
       "      <th>3</th>\n",
       "      <td>2023-12-04 00:00:00.000</td>\n",
       "      <td>3.0</td>\n",
       "      <td>4703.0</td>\n",
       "      <td>9833</td>\n",
       "    </tr>\n",
       "    <tr>\n",
       "      <th>4</th>\n",
       "      <td>2023-12-03 00:00:00.000</td>\n",
       "      <td>3.0</td>\n",
       "      <td>0.0</td>\n",
       "      <td>7999</td>\n",
       "    </tr>\n",
       "  </tbody>\n",
       "</table>\n",
       "</div>"
      ],
      "text/plain": [
       "                    SEANCE  TAUX MOYEN PONDERE  VOLUME JJ  ENCOURS\n",
       "0  2023-12-07 00:00:00.000                 3.0     2199.0     7769\n",
       "1  2023-12-06 00:00:00.000                 3.0     2389.0     7669\n",
       "2  2023-12-05 00:00:00.000                 3.0     3022.0     8302\n",
       "3  2023-12-04 00:00:00.000                 3.0     4703.0     9833\n",
       "4  2023-12-03 00:00:00.000                 3.0        0.0     7999"
      ]
     },
     "execution_count": 145,
     "metadata": {},
     "output_type": "execute_result"
    }
   ],
   "source": [
    "# Exploration rapide des données\n",
    "print(\"TMP\")\n",
    "df_TMP.head()"
   ]
  },
  {
   "cell_type": "code",
   "execution_count": 146,
   "id": "8af5290d",
   "metadata": {},
   "outputs": [
    {
     "name": "stdout",
     "output_type": "stream",
     "text": [
      "Inlfation\n"
     ]
    },
    {
     "data": {
      "text/html": [
       "<div>\n",
       "<style scoped>\n",
       "    .dataframe tbody tr th:only-of-type {\n",
       "        vertical-align: middle;\n",
       "    }\n",
       "\n",
       "    .dataframe tbody tr th {\n",
       "        vertical-align: top;\n",
       "    }\n",
       "\n",
       "    .dataframe thead th {\n",
       "        text-align: right;\n",
       "    }\n",
       "</style>\n",
       "<table border=\"1\" class=\"dataframe\">\n",
       "  <thead>\n",
       "    <tr style=\"text-align: right;\">\n",
       "      <th></th>\n",
       "      <th>MOIS</th>\n",
       "      <th>INFLATION</th>\n",
       "      <th>INFLATION_SOUS_JACENTE</th>\n",
       "    </tr>\n",
       "  </thead>\n",
       "  <tbody>\n",
       "    <tr>\n",
       "      <th>0</th>\n",
       "      <td>2023-09-01 00:00:00.000</td>\n",
       "      <td>4.9</td>\n",
       "      <td>4.4</td>\n",
       "    </tr>\n",
       "    <tr>\n",
       "      <th>1</th>\n",
       "      <td>2023-08-01 00:00:00.000</td>\n",
       "      <td>5.0</td>\n",
       "      <td>4.7</td>\n",
       "    </tr>\n",
       "    <tr>\n",
       "      <th>2</th>\n",
       "      <td>2023-07-01 00:00:00.000</td>\n",
       "      <td>4.9</td>\n",
       "      <td>5.1</td>\n",
       "    </tr>\n",
       "    <tr>\n",
       "      <th>3</th>\n",
       "      <td>2023-06-01 00:00:00.000</td>\n",
       "      <td>5.5</td>\n",
       "      <td>5.3</td>\n",
       "    </tr>\n",
       "    <tr>\n",
       "      <th>4</th>\n",
       "      <td>2023-05-01 00:00:00.000</td>\n",
       "      <td>7.1</td>\n",
       "      <td>6.1</td>\n",
       "    </tr>\n",
       "  </tbody>\n",
       "</table>\n",
       "</div>"
      ],
      "text/plain": [
       "                      MOIS  INFLATION  INFLATION_SOUS_JACENTE\n",
       "0  2023-09-01 00:00:00.000        4.9                     4.4\n",
       "1  2023-08-01 00:00:00.000        5.0                     4.7\n",
       "2  2023-07-01 00:00:00.000        4.9                     5.1\n",
       "3  2023-06-01 00:00:00.000        5.5                     5.3\n",
       "4  2023-05-01 00:00:00.000        7.1                     6.1"
      ]
     },
     "execution_count": 146,
     "metadata": {},
     "output_type": "execute_result"
    }
   ],
   "source": [
    "# Exploration rapide des données\n",
    "print(\"Inlfation\")\n",
    "df_Inlfation.head()"
   ]
  },
  {
   "cell_type": "code",
   "execution_count": 147,
   "id": "742b4bd2",
   "metadata": {},
   "outputs": [
    {
     "name": "stdout",
     "output_type": "stream",
     "text": [
      "Indices Taux\n"
     ]
    },
    {
     "data": {
      "text/html": [
       "<div>\n",
       "<style scoped>\n",
       "    .dataframe tbody tr th:only-of-type {\n",
       "        vertical-align: middle;\n",
       "    }\n",
       "\n",
       "    .dataframe tbody tr th {\n",
       "        vertical-align: top;\n",
       "    }\n",
       "\n",
       "    .dataframe thead th {\n",
       "        text-align: right;\n",
       "    }\n",
       "</style>\n",
       "<table border=\"1\" class=\"dataframe\">\n",
       "  <thead>\n",
       "    <tr style=\"text-align: right;\">\n",
       "      <th></th>\n",
       "      <th>Étiquettes de lignes</th>\n",
       "      <th>NOMINAL 1 AN</th>\n",
       "      <th>NOMINAL 1 MOIS</th>\n",
       "      <th>NOMINAL 10 ANS</th>\n",
       "      <th>NOMINAL 15 ANS</th>\n",
       "      <th>NOMINAL 2 ANS</th>\n",
       "      <th>NOMINAL 20 ANS</th>\n",
       "      <th>NOMINAL 25 ANS</th>\n",
       "      <th>NOMINAL 3 ANS</th>\n",
       "      <th>NOMINAL 3 MOIS</th>\n",
       "      <th>NOMINAL 30 ANS</th>\n",
       "      <th>NOMINAL 5 ANS</th>\n",
       "      <th>NOMINAL 6 MOIS</th>\n",
       "    </tr>\n",
       "  </thead>\n",
       "  <tbody>\n",
       "    <tr>\n",
       "      <th>0</th>\n",
       "      <td>2020-12-31 00:00:00.000</td>\n",
       "      <td>146.923866</td>\n",
       "      <td>141.763410</td>\n",
       "      <td>190.693865</td>\n",
       "      <td>208.460003</td>\n",
       "      <td>151.969539</td>\n",
       "      <td>212.829788</td>\n",
       "      <td>209.840482</td>\n",
       "      <td>156.371593</td>\n",
       "      <td>142.045887</td>\n",
       "      <td>207.292681</td>\n",
       "      <td>166.222277</td>\n",
       "      <td>143.332301</td>\n",
       "    </tr>\n",
       "    <tr>\n",
       "      <th>1</th>\n",
       "      <td>2021-01-04 00:00:00.000</td>\n",
       "      <td>146.954357</td>\n",
       "      <td>141.786399</td>\n",
       "      <td>190.731382</td>\n",
       "      <td>208.517471</td>\n",
       "      <td>151.949788</td>\n",
       "      <td>213.091574</td>\n",
       "      <td>210.011436</td>\n",
       "      <td>156.393177</td>\n",
       "      <td>142.068914</td>\n",
       "      <td>207.062027</td>\n",
       "      <td>166.072860</td>\n",
       "      <td>143.355496</td>\n",
       "    </tr>\n",
       "    <tr>\n",
       "      <th>2</th>\n",
       "      <td>2021-01-05 00:00:00.000</td>\n",
       "      <td>146.960785</td>\n",
       "      <td>141.792146</td>\n",
       "      <td>190.743671</td>\n",
       "      <td>208.532637</td>\n",
       "      <td>151.957406</td>\n",
       "      <td>213.108447</td>\n",
       "      <td>210.029499</td>\n",
       "      <td>156.401461</td>\n",
       "      <td>142.074691</td>\n",
       "      <td>207.080870</td>\n",
       "      <td>166.082218</td>\n",
       "      <td>143.361278</td>\n",
       "    </tr>\n",
       "    <tr>\n",
       "      <th>3</th>\n",
       "      <td>2021-01-06 00:00:00.000</td>\n",
       "      <td>146.990244</td>\n",
       "      <td>141.797894</td>\n",
       "      <td>190.758898</td>\n",
       "      <td>207.424437</td>\n",
       "      <td>152.004977</td>\n",
       "      <td>211.633170</td>\n",
       "      <td>210.583331</td>\n",
       "      <td>156.524217</td>\n",
       "      <td>142.086972</td>\n",
       "      <td>207.422914</td>\n",
       "      <td>165.952036</td>\n",
       "      <td>143.374171</td>\n",
       "    </tr>\n",
       "    <tr>\n",
       "      <th>4</th>\n",
       "      <td>2021-01-07 00:00:00.000</td>\n",
       "      <td>146.998817</td>\n",
       "      <td>141.803642</td>\n",
       "      <td>190.772325</td>\n",
       "      <td>207.439769</td>\n",
       "      <td>152.012542</td>\n",
       "      <td>211.650192</td>\n",
       "      <td>210.601359</td>\n",
       "      <td>156.520202</td>\n",
       "      <td>142.090134</td>\n",
       "      <td>207.441745</td>\n",
       "      <td>166.054973</td>\n",
       "      <td>143.365913</td>\n",
       "    </tr>\n",
       "  </tbody>\n",
       "</table>\n",
       "</div>"
      ],
      "text/plain": [
       "      Étiquettes de lignes  NOMINAL 1 AN  NOMINAL 1 MOIS  NOMINAL 10 ANS  \\\n",
       "0  2020-12-31 00:00:00.000    146.923866      141.763410      190.693865   \n",
       "1  2021-01-04 00:00:00.000    146.954357      141.786399      190.731382   \n",
       "2  2021-01-05 00:00:00.000    146.960785      141.792146      190.743671   \n",
       "3  2021-01-06 00:00:00.000    146.990244      141.797894      190.758898   \n",
       "4  2021-01-07 00:00:00.000    146.998817      141.803642      190.772325   \n",
       "\n",
       "   NOMINAL 15 ANS  NOMINAL 2 ANS  NOMINAL 20 ANS  NOMINAL 25 ANS  \\\n",
       "0      208.460003     151.969539      212.829788      209.840482   \n",
       "1      208.517471     151.949788      213.091574      210.011436   \n",
       "2      208.532637     151.957406      213.108447      210.029499   \n",
       "3      207.424437     152.004977      211.633170      210.583331   \n",
       "4      207.439769     152.012542      211.650192      210.601359   \n",
       "\n",
       "   NOMINAL 3 ANS  NOMINAL 3 MOIS  NOMINAL 30 ANS  NOMINAL 5 ANS  \\\n",
       "0     156.371593      142.045887      207.292681     166.222277   \n",
       "1     156.393177      142.068914      207.062027     166.072860   \n",
       "2     156.401461      142.074691      207.080870     166.082218   \n",
       "3     156.524217      142.086972      207.422914     165.952036   \n",
       "4     156.520202      142.090134      207.441745     166.054973   \n",
       "\n",
       "   NOMINAL 6 MOIS  \n",
       "0      143.332301  \n",
       "1      143.355496  \n",
       "2      143.361278  \n",
       "3      143.374171  \n",
       "4      143.365913  "
      ]
     },
     "execution_count": 147,
     "metadata": {},
     "output_type": "execute_result"
    }
   ],
   "source": [
    "# Exploration rapide des données\n",
    "print(\"Indices Taux\")\n",
    "df_Indices_Taux.head()"
   ]
  },
  {
   "cell_type": "code",
   "execution_count": 148,
   "id": "9266b0a6",
   "metadata": {},
   "outputs": [
    {
     "name": "stdout",
     "output_type": "stream",
     "text": [
      "Indices Sectorielles\n"
     ]
    },
    {
     "data": {
      "text/html": [
       "<div>\n",
       "<style scoped>\n",
       "    .dataframe tbody tr th:only-of-type {\n",
       "        vertical-align: middle;\n",
       "    }\n",
       "\n",
       "    .dataframe tbody tr th {\n",
       "        vertical-align: top;\n",
       "    }\n",
       "\n",
       "    .dataframe thead th {\n",
       "        text-align: right;\n",
       "    }\n",
       "</style>\n",
       "<table border=\"1\" class=\"dataframe\">\n",
       "  <thead>\n",
       "    <tr style=\"text-align: right;\">\n",
       "      <th></th>\n",
       "      <th>Étiquettes de lignes</th>\n",
       "      <th>AGROALIMENTAIRE &amp; PRODUCTION</th>\n",
       "      <th>ASSURANCES</th>\n",
       "      <th>BANQUES</th>\n",
       "      <th>BATIMENT &amp; MATERIAUX DE CONSTRUCTION</th>\n",
       "      <th>BOISSONS</th>\n",
       "      <th>CHIMIE</th>\n",
       "      <th>DISTRIBUTEURS</th>\n",
       "      <th>ELECTRICITE</th>\n",
       "      <th>EQUIPEMENTS ELECTRONIQUES &amp; ELECTRIQUES</th>\n",
       "      <th>...</th>\n",
       "      <th>PARTICIPATION ET PROMOTION IMMOBILIERES</th>\n",
       "      <th>PETROLE &amp; GAZ</th>\n",
       "      <th>SERVICES AUX COLLECTIVITES</th>\n",
       "      <th>SERVICES DE TRANSPORT</th>\n",
       "      <th>SOCIETE DE FINANCEMENT &amp; AUTRES ACTIVITES FINANCIERES</th>\n",
       "      <th>SOCIETES DE PLACEMENT IMMOBILIER</th>\n",
       "      <th>SOCIETES DE PORTEFEUILLES - HOLDINGS</th>\n",
       "      <th>SYLVICULTURE &amp; PAPIER</th>\n",
       "      <th>TELECOMMUNICATIONS</th>\n",
       "      <th>TRANSPORT</th>\n",
       "    </tr>\n",
       "  </thead>\n",
       "  <tbody>\n",
       "    <tr>\n",
       "      <th>0</th>\n",
       "      <td>2020-12-31 00:00:00.000</td>\n",
       "      <td>30960.09</td>\n",
       "      <td>4384.83</td>\n",
       "      <td>12207.24</td>\n",
       "      <td>16618.35</td>\n",
       "      <td>14278.10</td>\n",
       "      <td>3977.56</td>\n",
       "      <td>31466.88</td>\n",
       "      <td>2044.69</td>\n",
       "      <td>3857.14</td>\n",
       "      <td>...</td>\n",
       "      <td>2450.50</td>\n",
       "      <td>14934.35</td>\n",
       "      <td>1558.13</td>\n",
       "      <td>3230.77</td>\n",
       "      <td>7446.94</td>\n",
       "      <td>924.02</td>\n",
       "      <td>5292.90</td>\n",
       "      <td>18.70</td>\n",
       "      <td>2128.17</td>\n",
       "      <td>2375.80</td>\n",
       "    </tr>\n",
       "    <tr>\n",
       "      <th>1</th>\n",
       "      <td>2021-01-04 00:00:00.000</td>\n",
       "      <td>31373.14</td>\n",
       "      <td>4358.02</td>\n",
       "      <td>12307.00</td>\n",
       "      <td>16696.52</td>\n",
       "      <td>14278.10</td>\n",
       "      <td>3985.56</td>\n",
       "      <td>31466.63</td>\n",
       "      <td>2044.69</td>\n",
       "      <td>3857.14</td>\n",
       "      <td>...</td>\n",
       "      <td>2482.15</td>\n",
       "      <td>15389.46</td>\n",
       "      <td>1504.17</td>\n",
       "      <td>3260.00</td>\n",
       "      <td>7593.53</td>\n",
       "      <td>911.26</td>\n",
       "      <td>5262.78</td>\n",
       "      <td>19.42</td>\n",
       "      <td>2106.88</td>\n",
       "      <td>2375.80</td>\n",
       "    </tr>\n",
       "    <tr>\n",
       "      <th>2</th>\n",
       "      <td>2021-01-05 00:00:00.000</td>\n",
       "      <td>31415.16</td>\n",
       "      <td>4356.87</td>\n",
       "      <td>12130.07</td>\n",
       "      <td>16177.02</td>\n",
       "      <td>14278.10</td>\n",
       "      <td>3969.16</td>\n",
       "      <td>31426.86</td>\n",
       "      <td>2053.63</td>\n",
       "      <td>3857.14</td>\n",
       "      <td>...</td>\n",
       "      <td>2500.36</td>\n",
       "      <td>15637.88</td>\n",
       "      <td>1504.17</td>\n",
       "      <td>3261.54</td>\n",
       "      <td>7665.01</td>\n",
       "      <td>923.97</td>\n",
       "      <td>5082.04</td>\n",
       "      <td>19.81</td>\n",
       "      <td>2113.49</td>\n",
       "      <td>2388.38</td>\n",
       "    </tr>\n",
       "    <tr>\n",
       "      <th>3</th>\n",
       "      <td>2021-01-06 00:00:00.000</td>\n",
       "      <td>31456.46</td>\n",
       "      <td>4343.67</td>\n",
       "      <td>12005.83</td>\n",
       "      <td>16103.71</td>\n",
       "      <td>14278.10</td>\n",
       "      <td>4057.57</td>\n",
       "      <td>31327.99</td>\n",
       "      <td>2044.69</td>\n",
       "      <td>3857.14</td>\n",
       "      <td>...</td>\n",
       "      <td>2558.38</td>\n",
       "      <td>15688.17</td>\n",
       "      <td>1508.33</td>\n",
       "      <td>3307.69</td>\n",
       "      <td>7688.36</td>\n",
       "      <td>922.64</td>\n",
       "      <td>5262.78</td>\n",
       "      <td>20.03</td>\n",
       "      <td>2112.02</td>\n",
       "      <td>2388.38</td>\n",
       "    </tr>\n",
       "    <tr>\n",
       "      <th>4</th>\n",
       "      <td>2021-01-07 00:00:00.000</td>\n",
       "      <td>31661.06</td>\n",
       "      <td>4341.60</td>\n",
       "      <td>12118.76</td>\n",
       "      <td>16284.58</td>\n",
       "      <td>14498.94</td>\n",
       "      <td>4088.77</td>\n",
       "      <td>30901.40</td>\n",
       "      <td>2053.63</td>\n",
       "      <td>3857.14</td>\n",
       "      <td>...</td>\n",
       "      <td>2544.30</td>\n",
       "      <td>15424.61</td>\n",
       "      <td>1506.25</td>\n",
       "      <td>3324.62</td>\n",
       "      <td>7675.62</td>\n",
       "      <td>921.80</td>\n",
       "      <td>5083.55</td>\n",
       "      <td>20.02</td>\n",
       "      <td>2119.36</td>\n",
       "      <td>2421.47</td>\n",
       "    </tr>\n",
       "  </tbody>\n",
       "</table>\n",
       "<p>5 rows × 25 columns</p>\n",
       "</div>"
      ],
      "text/plain": [
       "      Étiquettes de lignes  AGROALIMENTAIRE & PRODUCTION  ASSURANCES  \\\n",
       "0  2020-12-31 00:00:00.000                      30960.09     4384.83   \n",
       "1  2021-01-04 00:00:00.000                      31373.14     4358.02   \n",
       "2  2021-01-05 00:00:00.000                      31415.16     4356.87   \n",
       "3  2021-01-06 00:00:00.000                      31456.46     4343.67   \n",
       "4  2021-01-07 00:00:00.000                      31661.06     4341.60   \n",
       "\n",
       "    BANQUES  BATIMENT & MATERIAUX DE CONSTRUCTION  BOISSONS   CHIMIE  \\\n",
       "0  12207.24                              16618.35  14278.10  3977.56   \n",
       "1  12307.00                              16696.52  14278.10  3985.56   \n",
       "2  12130.07                              16177.02  14278.10  3969.16   \n",
       "3  12005.83                              16103.71  14278.10  4057.57   \n",
       "4  12118.76                              16284.58  14498.94  4088.77   \n",
       "\n",
       "   DISTRIBUTEURS  ELECTRICITE  EQUIPEMENTS ELECTRONIQUES & ELECTRIQUES  ...  \\\n",
       "0       31466.88      2044.69                                  3857.14  ...   \n",
       "1       31466.63      2044.69                                  3857.14  ...   \n",
       "2       31426.86      2053.63                                  3857.14  ...   \n",
       "3       31327.99      2044.69                                  3857.14  ...   \n",
       "4       30901.40      2053.63                                  3857.14  ...   \n",
       "\n",
       "   PARTICIPATION ET PROMOTION IMMOBILIERES  PETROLE & GAZ  \\\n",
       "0                                  2450.50       14934.35   \n",
       "1                                  2482.15       15389.46   \n",
       "2                                  2500.36       15637.88   \n",
       "3                                  2558.38       15688.17   \n",
       "4                                  2544.30       15424.61   \n",
       "\n",
       "   SERVICES AUX COLLECTIVITES  SERVICES DE TRANSPORT  \\\n",
       "0                     1558.13                3230.77   \n",
       "1                     1504.17                3260.00   \n",
       "2                     1504.17                3261.54   \n",
       "3                     1508.33                3307.69   \n",
       "4                     1506.25                3324.62   \n",
       "\n",
       "   SOCIETE DE FINANCEMENT & AUTRES ACTIVITES FINANCIERES  \\\n",
       "0                                            7446.94       \n",
       "1                                            7593.53       \n",
       "2                                            7665.01       \n",
       "3                                            7688.36       \n",
       "4                                            7675.62       \n",
       "\n",
       "   SOCIETES DE PLACEMENT IMMOBILIER  SOCIETES DE PORTEFEUILLES - HOLDINGS  \\\n",
       "0                            924.02                               5292.90   \n",
       "1                            911.26                               5262.78   \n",
       "2                            923.97                               5082.04   \n",
       "3                            922.64                               5262.78   \n",
       "4                            921.80                               5083.55   \n",
       "\n",
       "   SYLVICULTURE & PAPIER  TELECOMMUNICATIONS  TRANSPORT  \n",
       "0                  18.70             2128.17    2375.80  \n",
       "1                  19.42             2106.88    2375.80  \n",
       "2                  19.81             2113.49    2388.38  \n",
       "3                  20.03             2112.02    2388.38  \n",
       "4                  20.02             2119.36    2421.47  \n",
       "\n",
       "[5 rows x 25 columns]"
      ]
     },
     "execution_count": 148,
     "metadata": {},
     "output_type": "execute_result"
    }
   ],
   "source": [
    "# Exploration rapide des données\n",
    "print(\"Indices Sectorielles\")\n",
    "df_Indices_Sectorielles.head()"
   ]
  },
  {
   "cell_type": "code",
   "execution_count": 149,
   "id": "0ebcf491",
   "metadata": {},
   "outputs": [],
   "source": [
    "# Analyse exploratoire des données (AED) - À adapter en fonction de chaque feuille"
   ]
  },
  {
   "cell_type": "code",
   "execution_count": 150,
   "id": "4554d159",
   "metadata": {},
   "outputs": [],
   "source": [
    "# Prétraitement des données - À adapter en fonction de chaque feuille"
   ]
  },
  {
   "cell_type": "code",
   "execution_count": null,
   "id": "5eefdbf9",
   "metadata": {},
   "outputs": [],
   "source": []
  },
  {
   "cell_type": "code",
   "execution_count": null,
   "id": "8199d33a",
   "metadata": {},
   "outputs": [],
   "source": []
  },
  {
   "cell_type": "code",
   "execution_count": null,
   "id": "9bede3c5",
   "metadata": {},
   "outputs": [],
   "source": []
  },
  {
   "cell_type": "code",
   "execution_count": null,
   "id": "275bbee0",
   "metadata": {},
   "outputs": [],
   "source": []
  },
  {
   "cell_type": "code",
   "execution_count": 151,
   "id": "e765ee02",
   "metadata": {},
   "outputs": [],
   "source": [
    "# # Sélection de Modèle\n",
    "# # Exemple avec Random Forest Regressor pour l'Historique des Prix\n",
    "# X = df_historique_prix.drop('RendementMASI', axis=1)  # Adaptation en fonction de votre colonne cible\n",
    "# y = df_historique_prix['RendementMASI']\n",
    "\n",
    "# # Diviser les données en ensembles d'entraînement et de test\n",
    "# X_train, X_test, y_train, y_test = train_test_split(X, y, test_size=0.2, random_state=42)\n",
    "\n",
    "# # Initialiser le modèle et l'entraîner\n",
    "# model = RandomForestRegressor(n_estimators=100, random_state=42)\n",
    "# model.fit(X_train, y_train)\n",
    "\n",
    "# # Faire des prédictions sur l'ensemble de test\n",
    "# predictions = model.predict(X_test)\n",
    "\n",
    "# # Évaluation du modèle\n",
    "# mse = mean_squared_error(y_test, predictions)\n",
    "# print(f\"\\nMean Squared Error : {mse}\")\n",
    "\n",
    "# # Optimisation et Validation - À adapter en fonction de chaque feuille\n",
    "\n",
    "# # Rapport d'Analyse et Présentation - À adapter en fonction de chaque feuille\n",
    "\n",
    "# # Vous pouvez continuer ces étapes pour les autres feuilles et les modèles nécessaires.\n",
    "\n",
    "# # Affichage ou sauvegarde de graphiques, résultats, etc.\n",
    "\n",
    "# # Exemple de graphique (à adapter en fonction de vos besoins)\n",
    "# plt.scatter(y_test, predictions)\n",
    "# plt.xlabel(\"Rendements Réels\")\n",
    "# plt.ylabel(\"Prédictions de Rendements\")\n",
    "# plt.title(\"Comparaison entre les Rendements Réels et les Prédictions\")\n",
    "# plt.show()\n"
   ]
  },
  {
   "cell_type": "code",
   "execution_count": 152,
   "id": "43d4b129",
   "metadata": {},
   "outputs": [
    {
     "name": "stdout",
     "output_type": "stream",
     "text": [
      "<class 'pandas.core.frame.DataFrame'>\n",
      "RangeIndex: 2366 entries, 0 to 2365\n",
      "Data columns (total 8 columns):\n",
      " #   Column           Non-Null Count  Dtype  \n",
      "---  ------           --------------  -----  \n",
      " 0   SEANCE           2366 non-null   object \n",
      " 1   INDICE           2366 non-null   object \n",
      " 2   COURS_CLOTURE    2366 non-null   float64\n",
      " 3   COURS_PLUS_HAUT  2366 non-null   float64\n",
      " 4   COURS_PLUS_BAS   2366 non-null   float64\n",
      " 5   COURS_OUVERTURE  2366 non-null   float64\n",
      " 6   COURS_VEILLE     2366 non-null   float64\n",
      " 7   VARIATION        2366 non-null   float64\n",
      "dtypes: float64(6), object(2)\n",
      "memory usage: 148.0+ KB\n"
     ]
    }
   ],
   "source": [
    "df_Indices_Généraux.info()"
   ]
  },
  {
   "cell_type": "code",
   "execution_count": 153,
   "id": "a9c04c97",
   "metadata": {},
   "outputs": [
    {
     "name": "stdout",
     "output_type": "stream",
     "text": [
      "<class 'pandas.core.frame.DataFrame'>\n",
      "RangeIndex: 1000 entries, 0 to 999\n",
      "Data columns (total 6 columns):\n",
      " #   Column             Non-Null Count  Dtype  \n",
      "---  ------             --------------  -----  \n",
      " 0   DATE_D'EXTRACTION  1000 non-null   object \n",
      " 1   Date               1000 non-null   object \n",
      " 2   Heure              1000 non-null   object \n",
      " 3   Devises            1000 non-null   object \n",
      " 4   Cours Minimum      1000 non-null   float64\n",
      " 5   Cours Maximum      1000 non-null   float64\n",
      "dtypes: float64(2), object(4)\n",
      "memory usage: 47.0+ KB\n"
     ]
    }
   ],
   "source": [
    "df_CHANGE.info()"
   ]
  },
  {
   "cell_type": "code",
   "execution_count": 154,
   "id": "25c6b4f5",
   "metadata": {},
   "outputs": [
    {
     "name": "stdout",
     "output_type": "stream",
     "text": [
      "<class 'pandas.core.frame.DataFrame'>\n",
      "RangeIndex: 207 entries, 0 to 206\n",
      "Data columns (total 7 columns):\n",
      " #   Column                       Non-Null Count  Dtype  \n",
      "---  ------                       --------------  -----  \n",
      " 0   DATE                         207 non-null    object \n",
      " 1   AVOIRS_OFFICIELS_DE_RESERVE  207 non-null    float64\n",
      " 2   OR_MONETAIRE                 207 non-null    float64\n",
      " 3   MONNAIES_ETRANGERES          207 non-null    float64\n",
      " 4   DEPOTS_ET_TITRES             207 non-null    float64\n",
      " 5   POSITION_DE_RESERVE_AU_FMI   207 non-null    float64\n",
      " 6   AVOIRS_EN_DTS                207 non-null    float64\n",
      "dtypes: float64(6), object(1)\n",
      "memory usage: 11.4+ KB\n"
     ]
    }
   ],
   "source": [
    "df_Avoirs_officiels_de_réserve.info()"
   ]
  },
  {
   "cell_type": "code",
   "execution_count": 155,
   "id": "69aeb6e7",
   "metadata": {},
   "outputs": [
    {
     "name": "stdout",
     "output_type": "stream",
     "text": [
      "<class 'pandas.core.frame.DataFrame'>\n",
      "RangeIndex: 985 entries, 0 to 984\n",
      "Data columns (total 3 columns):\n",
      " #   Column             Non-Null Count  Dtype  \n",
      "---  ------             --------------  -----  \n",
      " 0   Date de référence  985 non-null    object \n",
      " 1   Indice MONIA       985 non-null    float64\n",
      " 2   Volume JJ          985 non-null    int64  \n",
      "dtypes: float64(1), int64(1), object(1)\n",
      "memory usage: 23.2+ KB\n"
     ]
    }
   ],
   "source": [
    "df_MONIA.info()"
   ]
  },
  {
   "cell_type": "code",
   "execution_count": 156,
   "id": "f19317b2",
   "metadata": {},
   "outputs": [
    {
     "name": "stdout",
     "output_type": "stream",
     "text": [
      "<class 'pandas.core.frame.DataFrame'>\n",
      "RangeIndex: 963 entries, 0 to 962\n",
      "Data columns (total 4 columns):\n",
      " #   Column              Non-Null Count  Dtype  \n",
      "---  ------              --------------  -----  \n",
      " 0   SEANCE              963 non-null    object \n",
      " 1   TAUX MOYEN PONDERE  963 non-null    float64\n",
      " 2   VOLUME JJ           894 non-null    float64\n",
      " 3   ENCOURS             963 non-null    int64  \n",
      "dtypes: float64(2), int64(1), object(1)\n",
      "memory usage: 30.2+ KB\n"
     ]
    }
   ],
   "source": [
    "df_TMP.info()"
   ]
  },
  {
   "cell_type": "code",
   "execution_count": 157,
   "id": "58f119a0",
   "metadata": {},
   "outputs": [
    {
     "name": "stdout",
     "output_type": "stream",
     "text": [
      "<class 'pandas.core.frame.DataFrame'>\n",
      "RangeIndex: 21 entries, 0 to 20\n",
      "Data columns (total 3 columns):\n",
      " #   Column                  Non-Null Count  Dtype  \n",
      "---  ------                  --------------  -----  \n",
      " 0   MOIS                    21 non-null     object \n",
      " 1   INFLATION               21 non-null     float64\n",
      " 2   INFLATION_SOUS_JACENTE  21 non-null     float64\n",
      "dtypes: float64(2), object(1)\n",
      "memory usage: 636.0+ bytes\n"
     ]
    }
   ],
   "source": [
    "df_Inlfation.info()"
   ]
  },
  {
   "cell_type": "code",
   "execution_count": 158,
   "id": "2be63178",
   "metadata": {},
   "outputs": [
    {
     "name": "stdout",
     "output_type": "stream",
     "text": [
      "<class 'pandas.core.frame.DataFrame'>\n",
      "RangeIndex: 738 entries, 0 to 737\n",
      "Data columns (total 13 columns):\n",
      " #   Column                Non-Null Count  Dtype  \n",
      "---  ------                --------------  -----  \n",
      " 0   Étiquettes de lignes  738 non-null    object \n",
      " 1   NOMINAL 1 AN          738 non-null    float64\n",
      " 2   NOMINAL 1 MOIS        738 non-null    float64\n",
      " 3   NOMINAL 10 ANS        738 non-null    float64\n",
      " 4   NOMINAL 15 ANS        738 non-null    float64\n",
      " 5   NOMINAL 2 ANS         738 non-null    float64\n",
      " 6   NOMINAL 20 ANS        738 non-null    float64\n",
      " 7   NOMINAL 25 ANS        738 non-null    float64\n",
      " 8   NOMINAL 3 ANS         738 non-null    float64\n",
      " 9   NOMINAL 3 MOIS        738 non-null    float64\n",
      " 10  NOMINAL 30 ANS        738 non-null    float64\n",
      " 11  NOMINAL 5 ANS         738 non-null    float64\n",
      " 12  NOMINAL 6 MOIS        738 non-null    float64\n",
      "dtypes: float64(12), object(1)\n",
      "memory usage: 75.1+ KB\n"
     ]
    }
   ],
   "source": [
    "df_Indices_Taux.info()"
   ]
  },
  {
   "cell_type": "code",
   "execution_count": 159,
   "id": "20f099c4",
   "metadata": {},
   "outputs": [
    {
     "name": "stdout",
     "output_type": "stream",
     "text": [
      "<class 'pandas.core.frame.DataFrame'>\n",
      "RangeIndex: 738 entries, 0 to 737\n",
      "Data columns (total 25 columns):\n",
      " #   Column                                                 Non-Null Count  Dtype  \n",
      "---  ------                                                 --------------  -----  \n",
      " 0   Étiquettes de lignes                                   738 non-null    object \n",
      " 1   AGROALIMENTAIRE & PRODUCTION                           540 non-null    float64\n",
      " 2   ASSURANCES                                             734 non-null    float64\n",
      " 3   BANQUES                                                734 non-null    float64\n",
      " 4   BATIMENT & MATERIAUX DE CONSTRUCTION                   734 non-null    float64\n",
      " 5   BOISSONS                                               734 non-null    float64\n",
      " 6   CHIMIE                                                 734 non-null    float64\n",
      " 7   DISTRIBUTEURS                                          734 non-null    float64\n",
      " 8   ELECTRICITE                                            734 non-null    float64\n",
      " 9   EQUIPEMENTS ELECTRONIQUES & ELECTRIQUES                326 non-null    float64\n",
      " 10  INDUSTRIE PHARMACEUTIQUE                               734 non-null    float64\n",
      " 11  INGENIERIES & BIENS D’EQUIPEMENT INDUSTRIELS           654 non-null    float64\n",
      " 12  LOISIRS ET HOTELS                                      734 non-null    float64\n",
      " 13  MATERIELS,LOGICIELS & SERVICES INFORMATIQUES           734 non-null    float64\n",
      " 14  MINES                                                  734 non-null    float64\n",
      " 15  PARTICIPATION ET PROMOTION IMMOBILIERES                734 non-null    float64\n",
      " 16  PETROLE & GAZ                                          734 non-null    float64\n",
      " 17  SERVICES AUX COLLECTIVITES                             503 non-null    float64\n",
      " 18  SERVICES DE TRANSPORT                                  734 non-null    float64\n",
      " 19  SOCIETE DE FINANCEMENT & AUTRES ACTIVITES FINANCIERES  734 non-null    float64\n",
      " 20  SOCIETES DE PLACEMENT IMMOBILIER                       734 non-null    float64\n",
      " 21  SOCIETES DE PORTEFEUILLES - HOLDINGS                   734 non-null    float64\n",
      " 22  SYLVICULTURE & PAPIER                                  734 non-null    float64\n",
      " 23  TELECOMMUNICATIONS                                     734 non-null    float64\n",
      " 24  TRANSPORT                                              734 non-null    float64\n",
      "dtypes: float64(24), object(1)\n",
      "memory usage: 144.3+ KB\n"
     ]
    }
   ],
   "source": [
    "df_Indices_Sectorielles.info()"
   ]
  },
  {
   "cell_type": "markdown",
   "id": "243527a6",
   "metadata": {},
   "source": [
    "# Préparation Data"
   ]
  },
  {
   "cell_type": "code",
   "execution_count": 171,
   "id": "c83f6a9d",
   "metadata": {},
   "outputs": [],
   "source": [
    "# Fusionner les différentes feuilles de données en fonction de la colonne commune (par exemple, la date)\n",
    "df_Indices_Généraux_Avoirs_officiels_de_réserve = pd.merge(df_Indices_Généraux, df_Avoirs_officiels_de_réserve, left_on='SEANCE', right_on='DATE', how='outer')\n",
    "# Remplacer les valeurs manquantes par la médiane\n",
    "df_Indices_Généraux_Avoirs_officiels_de_réserve = df_Indices_Généraux_Avoirs_officiels_de_réserve.fillna(df_Indices_Généraux_Avoirs_officiels_de_réserve.median(numeric_only=True))"
   ]
  },
  {
   "cell_type": "code",
   "execution_count": 172,
   "id": "f4f29a49",
   "metadata": {},
   "outputs": [],
   "source": [
    "df_Indices_Généraux_Avoirs_officiels_de_réserve_CHANGE = pd.merge(df_Indices_Généraux_Avoirs_officiels_de_réserve, df_CHANGE, left_on='DATE', right_on='Date', how='outer')\n",
    "# Remplacer les valeurs manquantes par la médiane\n",
    "df_Indices_Généraux_Avoirs_officiels_de_réserve_CHANGE = df_Indices_Généraux_Avoirs_officiels_de_réserve_CHANGE.fillna(df_Indices_Généraux_Avoirs_officiels_de_réserve_CHANGE.median(numeric_only=True))\n",
    "\n",
    "df_Indices_Généraux_Avoirs_officiels_de_réserve_CHANGE_MONIA = pd.merge(df_Indices_Généraux_Avoirs_officiels_de_réserve_CHANGE, df_MONIA, left_on='DATE', right_on='Date de référence', how='outer')\n",
    "# Remplacer les valeurs manquantes par la médiane\n",
    "df_Indices_Généraux_Avoirs_officiels_de_réserve_CHANGE_MONIA = df_Indices_Généraux_Avoirs_officiels_de_réserve_CHANGE_MONIA.fillna(df_Indices_Généraux_Avoirs_officiels_de_réserve_CHANGE_MONIA.median(numeric_only=True))\n",
    "\n",
    "df_Indices_Généraux_Avoirs_officiels_de_réserve_CHANGE_MONIA_TMP = pd.merge(df_Indices_Généraux_Avoirs_officiels_de_réserve_CHANGE_MONIA, df_TMP, left_on='DATE', right_on='SEANCE', how='outer')\n",
    "# Remplacer les valeurs manquantes par la médiane\n",
    "df_Indices_Généraux_Avoirs_officiels_de_réserve_CHANGE_MONIA_TMP = df_Indices_Généraux_Avoirs_officiels_de_réserve_CHANGE_MONIA_TMP.fillna(df_Indices_Généraux_Avoirs_officiels_de_réserve_CHANGE_MONIA_TMP.median(numeric_only=True))\n",
    "\n",
    "df_Indices_Généraux_Avoirs_officiels_de_réserve_CHANGE_MONIA_TMP_Inlfation = pd.merge(df_Indices_Généraux_Avoirs_officiels_de_réserve_CHANGE_MONIA_TMP, df_Inlfation, left_on='DATE', right_on='MOIS', how='outer')\n",
    "# Remplacer les valeurs manquantes par la médiane\n",
    "df_Indices_Généraux_Avoirs_officiels_de_réserve_CHANGE_MONIA_TMP_Inlfation = df_Indices_Généraux_Avoirs_officiels_de_réserve_CHANGE_MONIA_TMP_Inlfation.fillna(df_Indices_Généraux_Avoirs_officiels_de_réserve_CHANGE_MONIA_TMP_Inlfation.median(numeric_only=True))"
   ]
  },
  {
   "cell_type": "code",
   "execution_count": 173,
   "id": "de494688",
   "metadata": {},
   "outputs": [],
   "source": [
    "df_Indices_Taux_Indices_Sectorielles = pd.merge(df_Indices_Taux, df_Indices_Sectorielles, left_on='Étiquettes de lignes', right_on='Étiquettes de lignes', how='outer')\n",
    "# Remplacer les valeurs manquantes par la médiane\n",
    "df_Indices_Taux_Indices_Sectorielles = df_Indices_Taux_Indices_Sectorielles.fillna(df_Indices_Taux_Indices_Sectorielles.median(numeric_only=True))"
   ]
  },
  {
   "cell_type": "code",
   "execution_count": 198,
   "id": "c228789f",
   "metadata": {},
   "outputs": [],
   "source": [
    "df = df_Indices_Généraux_Avoirs_officiels_de_réserve_CHANGE_MONIA_TMP_Inlfation"
   ]
  },
  {
   "cell_type": "markdown",
   "id": "b1375c67",
   "metadata": {},
   "source": [
    "# EDA"
   ]
  },
  {
   "cell_type": "markdown",
   "id": "acf47952",
   "metadata": {},
   "source": [
    "### Cours de Clôture de l'Indice MASI"
   ]
  },
  {
   "cell_type": "code",
   "execution_count": 181,
   "id": "6dbfba38",
   "metadata": {},
   "outputs": [
    {
     "data": {
      "image/png": "[encoded data removed]",
      "text/plain": [
       "<Figure size 1200x600 with 1 Axes>"
      ]
     },
     "metadata": {},
     "output_type": "display_data"
    }
   ],
   "source": [
    "# Explorer les tendances temporelles pour l'indice MASI\n",
    "plt.figure(figsize=(12, 6))\n",
    "plt.plot(df_Indices_Généraux['SEANCE'], df_Indices_Généraux['COURS_CLOTURE'], label='Cours de clôture MASI')\n",
    "plt.title('Tendance temporelle de l\\'indice MASI')\n",
    "plt.xlabel('Date')\n",
    "plt.ylabel('Cours de clôture')\n",
    "plt.legend()\n",
    "plt.show()"
   ]
  },
  {
   "cell_type": "markdown",
   "id": "e632154b",
   "metadata": {},
   "source": [
    "- La visualisation montre une tendance générale à la hausse ou à la baisse du cours de clôture de l'indice MASI au fil du temps.\n",
    "- Des pics ou des creux importants peuvent indiquer des événements économiques majeurs ou des périodes de volatilité."
   ]
  },
  {
   "cell_type": "markdown",
   "id": "cc16130c",
   "metadata": {},
   "source": [
    "### Corrélation entre le Cours de Clôture et la Variation"
   ]
  },
  {
   "cell_type": "code",
   "execution_count": 182,
   "id": "e6a1b1f0",
   "metadata": {},
   "outputs": [
    {
     "data": {
      "image/png": "[encoded data removed]",
      "text/plain": [
       "<Figure size 800x600 with 2 Axes>"
      ]
     },
     "metadata": {},
     "output_type": "display_data"
    }
   ],
   "source": [
    "# Examiner la corrélation entre les variables\n",
    "# (Exemple avec les colonnes 'COURS_CLOTURE' et 'VARIATION' de l'indice MASI)\n",
    "correlation_matrix = df_Indices_Généraux[['COURS_CLOTURE', 'VARIATION']].corr()\n",
    "\n",
    "# Utiliser Seaborn pour visualiser la matrice de corrélation\n",
    "plt.figure(figsize=(8, 6))\n",
    "sns.heatmap(correlation_matrix, annot=True, cmap='coolwarm', fmt='.2f', linewidths=0.5)\n",
    "plt.title('Matrice de Corrélation')\n",
    "plt.show()"
   ]
  },
  {
   "cell_type": "markdown",
   "id": "2f99c23c",
   "metadata": {},
   "source": [
    "- La matrice de corrélation suggère la force et la direction de la relation linéaire entre le cours de clôture et la variation.\n",
    "- Une corrélation positive indiquerait que le cours de clôture tend à augmenter avec une variation positive et vice versa."
   ]
  },
  {
   "cell_type": "markdown",
   "id": "63bd797c",
   "metadata": {},
   "source": [
    "### Tendance Temporelle des Avoirs Officiels de Réserve"
   ]
  },
  {
   "cell_type": "code",
   "execution_count": 183,
   "id": "824b85fd",
   "metadata": {},
   "outputs": [
    {
     "data": {
      "image/png": "[encoded data removed]",
      "text/plain": [
       "<Figure size 1200x600 with 1 Axes>"
      ]
     },
     "metadata": {},
     "output_type": "display_data"
    }
   ],
   "source": [
    "# Explorer les saisons pour les avoirs officiels de réserve\n",
    "plt.figure(figsize=(12, 6))\n",
    "plt.plot(df_Avoirs_officiels_de_réserve['DATE'], df_Avoirs_officiels_de_réserve['AVOIRS_OFFICIELS_DE_RESERVE'], label='Avoirs officiels de réserve')\n",
    "plt.title('Tendance temporelle des avoirs officiels de réserve')\n",
    "plt.xlabel('Date')\n",
    "plt.ylabel('Avoirs officiels de réserve')\n",
    "plt.legend()\n",
    "plt.show()"
   ]
  },
  {
   "cell_type": "markdown",
   "id": "e2930fdc",
   "metadata": {},
   "source": [
    "- La visualisation des avoirs officiels de réserve montre la fluctuation de ces avoirs au fil du temps.\n",
    "- Des motifs récurrents peuvent indiquer des tendances saisonnières ou des schémas économiques spécifiques."
   ]
  },
  {
   "cell_type": "markdown",
   "id": "0bf794c2",
   "metadata": {},
   "source": [
    "### Distribution des Cours de Clôture de l'Indice MASI"
   ]
  },
  {
   "cell_type": "code",
   "execution_count": 184,
   "id": "a2f6d350",
   "metadata": {},
   "outputs": [
    {
     "data": {
      "image/png": "[encoded data removed]",
      "text/plain": [
       "<Figure size 1200x600 with 1 Axes>"
      ]
     },
     "metadata": {},
     "output_type": "display_data"
    }
   ],
   "source": [
    "# Explorer la distribution des valeurs pour l'indice MASI\n",
    "sns.histplot(df_Indices_Généraux['COURS_CLOTURE'], bins=30, kde=True)\n",
    "plt.title('Distribution des cours de clôture de l\\'indice MASI')\n",
    "plt.xlabel('Cours de clôture')\n",
    "plt.ylabel('Fréquence')"
   ]
  },
  {
   "cell_type": "markdown",
   "id": "66f829b3",
   "metadata": {},
   "source": [
    "- La distribution des cours de clôture montre une tendance normale avec une légère asymétrie positive. Cela signifie que la plupart des cours de clôture sont concentrés autour de la moyenne, mais il y a quelques valeurs plus élevées.- "
   ]
  },
  {
   "cell_type": "code",
   "execution_count": 186,
   "id": "6cf59c60",
   "metadata": {},
   "outputs": [
    {
     "name": "stdout",
     "output_type": "stream",
     "text": [
      "Nombre de valeurs manquantes par colonne dans l'indice MASI :\n",
      " SEANCE             0\n",
      "INDICE             0\n",
      "COURS_CLOTURE      0\n",
      "COURS_PLUS_HAUT    0\n",
      "COURS_PLUS_BAS     0\n",
      "COURS_OUVERTURE    0\n",
      "COURS_VEILLE       0\n",
      "VARIATION          0\n",
      "dtype: int64\n"
     ]
    }
   ],
   "source": [
    "# Vérifier s'il y a des valeurs manquantes dans les données\n",
    "missing_values = df_Indices_Généraux.isnull().sum()\n",
    "print(\"Nombre de valeurs manquantes par colonne dans l'indice MASI :\\n\", missing_values)"
   ]
  },
  {
   "cell_type": "markdown",
   "id": "7b601659",
   "metadata": {},
   "source": [
    "- Aucune valeur manquante n'a été détectée dans les données de l'indice MASI. Cela suggère que les données sont relativement complètes et peuvent être utilisées pour une analyse plus approfondie."
   ]
  },
  {
   "cell_type": "markdown",
   "id": "db0bb7c8",
   "metadata": {},
   "source": [
    "### Matrice de Corrélation des Variables Macroéconomiques"
   ]
  },
  {
   "cell_type": "code",
   "execution_count": 187,
   "id": "8697d004",
   "metadata": {},
   "outputs": [
    {
     "data": {
      "image/png": "[encoded data removed]",
      "text/plain": [
       "<Figure size 1000x800 with 2 Axes>"
      ]
     },
     "metadata": {},
     "output_type": "display_data"
    }
   ],
   "source": [
    "# Explorer la corrélation entre les variables macroéconomiques\n",
    "macroeconomic_variables = ['AVOIRS_OFFICIELS_DE_RESERVE', 'OR_MONETAIRE', 'MONNAIES_ETRANGERES', 'DEPOTS_ET_TITRES', 'POSITION_DE_RESERVE_AU_FMI', 'AVOIRS_EN_DTS']\n",
    "correlation_matrix_macroeconomic = df_Avoirs_officiels_de_réserve[macroeconomic_variables].corr()\n",
    "\n",
    "# Utiliser Seaborn pour visualiser la matrice de corrélation des variables macroéconomiques\n",
    "plt.figure(figsize=(10, 8))\n",
    "sns.heatmap(correlation_matrix_macroeconomic, annot=True, cmap='coolwarm', fmt='.2f', linewidths=0.5)\n",
    "plt.title('Matrice de Corrélation des Variables Macroéconomiques')\n",
    "plt.show()"
   ]
  },
  {
   "cell_type": "markdown",
   "id": "549deffd",
   "metadata": {},
   "source": [
    "- La matrice de corrélation entre les variables macroéconomiques dans les avoirs officiels de réserve peut révéler des relations intéressantes. Par exemple, la corrélation entre 'AVOIRS_OFFICIELS_DE_RESERVE' et 'DEPOTS_ET_TITRES' est de 0.98, suggérant une forte corrélation positive entre ces deux variables."
   ]
  },
  {
   "cell_type": "markdown",
   "id": "9c94a280",
   "metadata": {},
   "source": [
    "# Nettoyage des Données"
   ]
  },
  {
   "cell_type": "markdown",
   "id": "9a950566",
   "metadata": {},
   "source": [
    "## Gestion des Valeurs Manquantes"
   ]
  },
  {
   "cell_type": "markdown",
   "id": "77879cc2",
   "metadata": {},
   "source": [
    "### Pour l'indice MASI "
   ]
  },
  {
   "cell_type": "markdown",
   "id": "04886346",
   "metadata": {},
   "source": [
    "- Vérifiez s'il y a des valeurs manquantes dans les données.\n",
    "- Si des valeurs manquantes sont présentes, décider de la stratégie de gestion (imputation, suppression, etc.)."
   ]
  },
  {
   "cell_type": "code",
   "execution_count": 188,
   "id": "2a7e1255",
   "metadata": {},
   "outputs": [
    {
     "name": "stdout",
     "output_type": "stream",
     "text": [
      "Nombre de valeurs manquantes par colonne dans l'indice MASI :\n",
      " SEANCE             0\n",
      "INDICE             0\n",
      "COURS_CLOTURE      0\n",
      "COURS_PLUS_HAUT    0\n",
      "COURS_PLUS_BAS     0\n",
      "COURS_OUVERTURE    0\n",
      "COURS_VEILLE       0\n",
      "VARIATION          0\n",
      "dtype: int64\n"
     ]
    }
   ],
   "source": [
    "# Vérifier s'il y a des valeurs manquantes dans les données\n",
    "missing_values = df_Indices_Généraux.isnull().sum()\n",
    "print(\"Nombre de valeurs manquantes par colonne dans l'indice MASI :\\n\", missing_values)"
   ]
  },
  {
   "cell_type": "markdown",
   "id": "55a85de2",
   "metadata": {},
   "source": [
    "### Pour les Avoirs Officiels de Réserve"
   ]
  },
  {
   "cell_type": "markdown",
   "id": "09b56f0d",
   "metadata": {},
   "source": [
    "- Appliquez la même approche que pour l'indice MASI."
   ]
  },
  {
   "cell_type": "code",
   "execution_count": 189,
   "id": "5648b23f",
   "metadata": {},
   "outputs": [
    {
     "name": "stdout",
     "output_type": "stream",
     "text": [
      "Nombre de valeurs manquantes par colonne des Avoirs Officiels de Réserve :\n",
      " DATE                           0\n",
      "AVOIRS_OFFICIELS_DE_RESERVE    0\n",
      "OR_MONETAIRE                   0\n",
      "MONNAIES_ETRANGERES            0\n",
      "DEPOTS_ET_TITRES               0\n",
      "POSITION_DE_RESERVE_AU_FMI     0\n",
      "AVOIRS_EN_DTS                  0\n",
      "dtype: int64\n"
     ]
    }
   ],
   "source": [
    "missing_values = df_Avoirs_officiels_de_réserve.isnull().sum()\n",
    "print(\"Nombre de valeurs manquantes par colonne des Avoirs Officiels de Réserve :\\n\", missing_values)"
   ]
  },
  {
   "cell_type": "markdown",
   "id": "b2a57d41",
   "metadata": {},
   "source": [
    "# Normalisation des Données"
   ]
  },
  {
   "cell_type": "markdown",
   "id": "942f8783",
   "metadata": {},
   "source": [
    "### Pour l'indice MASI : Normalisation des Cours de Clôture"
   ]
  },
  {
   "cell_type": "markdown",
   "id": "f974ac3a",
   "metadata": {},
   "source": [
    "- La normalisation peut aider à mettre les variables à des échelles comparables."
   ]
  },
  {
   "cell_type": "code",
   "execution_count": 190,
   "id": "123e3d82",
   "metadata": {},
   "outputs": [],
   "source": [
    "from sklearn.preprocessing import MinMaxScaler\n",
    "\n",
    "# Normalisation des cours de clôture\n",
    "scaler = MinMaxScaler()\n",
    "df_Indices_Généraux['COURS_CLOTURE_NORMALIZED'] = scaler.fit_transform(df_Indices_Généraux[['COURS_CLOTURE']])"
   ]
  },
  {
   "cell_type": "markdown",
   "id": "5d56b5f3",
   "metadata": {},
   "source": [
    "### Pour les Avoirs Officiels de Réserve : Normalisation des Variables Macroéconomiques"
   ]
  },
  {
   "cell_type": "markdown",
   "id": "03899a98",
   "metadata": {},
   "source": [
    "- Appliquez la normalisation aux variables macroéconomiques si nécessaire."
   ]
  },
  {
   "cell_type": "code",
   "execution_count": 191,
   "id": "3f4400d5",
   "metadata": {},
   "outputs": [],
   "source": [
    "# Exemple de normalisation pour les avoirs officiels de réserve\n",
    "df_Avoirs_officiels_de_réserve_normalized = scaler.fit_transform(df_Avoirs_officiels_de_réserve[macroeconomic_variables])"
   ]
  },
  {
   "cell_type": "markdown",
   "id": "d787702c",
   "metadata": {},
   "source": [
    "# Transformation des Données"
   ]
  },
  {
   "cell_type": "markdown",
   "id": "4f9ee842",
   "metadata": {},
   "source": [
    "### Création de Nouvelles Caractéristiques (Feature Engineering)"
   ]
  },
  {
   "cell_type": "markdown",
   "id": "e7911dea",
   "metadata": {},
   "source": [
    "- Créer de nouvelles caractéristiques basées sur les données existantes pour améliorer la performance des modèles."
   ]
  },
  {
   "cell_type": "code",
   "execution_count": 192,
   "id": "87fd32f4",
   "metadata": {},
   "outputs": [],
   "source": [
    "# Exemple de création d'une nouvelle caractéristique pour l'indice MASI\n",
    "df_Indices_Généraux['VARIATION_POSITIVE'] = df_Indices_Généraux['VARIATION'] > 0"
   ]
  },
  {
   "cell_type": "markdown",
   "id": "ddc46bbd",
   "metadata": {},
   "source": [
    "### Gestion des Dates"
   ]
  },
  {
   "cell_type": "markdown",
   "id": "54d843f6",
   "metadata": {},
   "source": [
    "- Extraire des informations telles que le mois, le jour de la semaine, etc."
   ]
  },
  {
   "cell_type": "code",
   "execution_count": 199,
   "id": "f2b11bff",
   "metadata": {},
   "outputs": [],
   "source": [
    "# Convertir la colonne 'SEANCE' en type datetime\n",
    "df['DATE'] = pd.to_datetime(df['DATE'])\n",
    "\n",
    "# Extrait le mois\n",
    "df['MOIS'] = df['DATE'].dt.month"
   ]
  },
  {
   "cell_type": "markdown",
   "id": "6ca452cf",
   "metadata": {},
   "source": [
    "# Modeling"
   ]
  },
  {
   "cell_type": "code",
   "execution_count": 236,
   "id": "f625ea7f",
   "metadata": {},
   "outputs": [],
   "source": [
    "features = [\n",
    "    'COURS_PLUS_HAUT', 'COURS_PLUS_BAS', 'COURS_OUVERTURE', 'COURS_VEILLE',\n",
    "    'AVOIRS_OFFICIELS_DE_RESERVE', 'Indice MONIA', 'TAUX MOYEN PONDERE',\n",
    "    'INFLATION', 'VOLUME JJ',  # Ajoutez les colonnes nécessaires\n",
    "    'MOIS' # Ces colonnes créées à partir de la colonne 'SEANCE'\n",
    "]"
   ]
  },
  {
   "cell_type": "code",
   "execution_count": 237,
   "id": "8b5a7700",
   "metadata": {},
   "outputs": [],
   "source": [
    "all_features = features + ['COURS_CLOTURE']"
   ]
  },
  {
   "cell_type": "code",
   "execution_count": 238,
   "id": "3268a8f5",
   "metadata": {},
   "outputs": [
    {
     "data": {
      "text/plain": [
       "['COURS_PLUS_HAUT',\n",
       " 'COURS_PLUS_BAS',\n",
       " 'COURS_OUVERTURE',\n",
       " 'COURS_VEILLE',\n",
       " 'AVOIRS_OFFICIELS_DE_RESERVE',\n",
       " 'Indice MONIA',\n",
       " 'TAUX MOYEN PONDERE',\n",
       " 'INFLATION',\n",
       " 'VOLUME JJ',\n",
       " 'MOIS',\n",
       " 'COURS_CLOTURE']"
      ]
     },
     "execution_count": 238,
     "metadata": {},
     "output_type": "execute_result"
    }
   ],
   "source": [
    "all_features"
   ]
  },
  {
   "cell_type": "code",
   "execution_count": 239,
   "id": "2fa1bd6c",
   "metadata": {},
   "outputs": [],
   "source": [
    "# Remplacer les valeurs NaN par la moyenne (vous pouvez choisir une stratégie appropriée)\n",
    "imputer = SimpleImputer(strategy='mean')\n",
    "df[all_features] = imputer.fit_transform(df[all_features])"
   ]
  },
  {
   "cell_type": "code",
   "execution_count": 240,
   "id": "4d521300",
   "metadata": {},
   "outputs": [],
   "source": [
    "# Diviser les données en ensemble d'entraînement et ensemble de test\n",
    "X_train, X_test, y_train, y_test = train_test_split(\n",
    "    df[features],\n",
    "    df['COURS_CLOTURE'],\n",
    "    test_size=0.2,\n",
    "    random_state=42\n",
    ")"
   ]
  },
  {
   "cell_type": "code",
   "execution_count": 241,
   "id": "5a58d208",
   "metadata": {},
   "outputs": [
    {
     "data": {
      "text/html": [
       "<div>\n",
       "<style scoped>\n",
       "    .dataframe tbody tr th:only-of-type {\n",
       "        vertical-align: middle;\n",
       "    }\n",
       "\n",
       "    .dataframe tbody tr th {\n",
       "        vertical-align: top;\n",
       "    }\n",
       "\n",
       "    .dataframe thead th {\n",
       "        text-align: right;\n",
       "    }\n",
       "</style>\n",
       "<table border=\"1\" class=\"dataframe\">\n",
       "  <thead>\n",
       "    <tr style=\"text-align: right;\">\n",
       "      <th></th>\n",
       "      <th>COURS_PLUS_HAUT</th>\n",
       "      <th>COURS_PLUS_BAS</th>\n",
       "      <th>COURS_OUVERTURE</th>\n",
       "      <th>COURS_VEILLE</th>\n",
       "      <th>AVOIRS_OFFICIELS_DE_RESERVE</th>\n",
       "      <th>Indice MONIA</th>\n",
       "      <th>TAUX MOYEN PONDERE</th>\n",
       "      <th>INFLATION</th>\n",
       "      <th>VOLUME JJ</th>\n",
       "      <th>MOIS</th>\n",
       "    </tr>\n",
       "  </thead>\n",
       "  <tbody>\n",
       "    <tr>\n",
       "      <th>3435</th>\n",
       "      <td>11201.790039</td>\n",
       "      <td>11120.314941</td>\n",
       "      <td>11158.260254</td>\n",
       "      <td>11160.955078</td>\n",
       "      <td>324.15314</td>\n",
       "      <td>1.403</td>\n",
       "      <td>1.502</td>\n",
       "      <td>7.128337</td>\n",
       "      <td>3185.0</td>\n",
       "      <td>6.50641</td>\n",
       "    </tr>\n",
       "    <tr>\n",
       "      <th>410</th>\n",
       "      <td>12129.420000</td>\n",
       "      <td>12054.340000</td>\n",
       "      <td>12116.700000</td>\n",
       "      <td>12116.700000</td>\n",
       "      <td>324.15314</td>\n",
       "      <td>1.444</td>\n",
       "      <td>1.502</td>\n",
       "      <td>7.128337</td>\n",
       "      <td>3185.0</td>\n",
       "      <td>6.50641</td>\n",
       "    </tr>\n",
       "    <tr>\n",
       "      <th>1047</th>\n",
       "      <td>12043.070312</td>\n",
       "      <td>11867.889648</td>\n",
       "      <td>11878.650391</td>\n",
       "      <td>11878.650391</td>\n",
       "      <td>324.15314</td>\n",
       "      <td>1.444</td>\n",
       "      <td>1.502</td>\n",
       "      <td>7.128337</td>\n",
       "      <td>3185.0</td>\n",
       "      <td>6.50641</td>\n",
       "    </tr>\n",
       "    <tr>\n",
       "      <th>2594</th>\n",
       "      <td>11201.790039</td>\n",
       "      <td>11120.314941</td>\n",
       "      <td>11158.260254</td>\n",
       "      <td>11160.955078</td>\n",
       "      <td>324.15314</td>\n",
       "      <td>1.444</td>\n",
       "      <td>1.502</td>\n",
       "      <td>7.128337</td>\n",
       "      <td>3185.0</td>\n",
       "      <td>6.50641</td>\n",
       "    </tr>\n",
       "    <tr>\n",
       "      <th>3260</th>\n",
       "      <td>11201.790039</td>\n",
       "      <td>11120.314941</td>\n",
       "      <td>11158.260254</td>\n",
       "      <td>11160.955078</td>\n",
       "      <td>324.15314</td>\n",
       "      <td>1.449</td>\n",
       "      <td>1.502</td>\n",
       "      <td>7.128337</td>\n",
       "      <td>3185.0</td>\n",
       "      <td>6.50641</td>\n",
       "    </tr>\n",
       "  </tbody>\n",
       "</table>\n",
       "</div>"
      ],
      "text/plain": [
       "      COURS_PLUS_HAUT  COURS_PLUS_BAS  COURS_OUVERTURE  COURS_VEILLE  \\\n",
       "3435     11201.790039    11120.314941     11158.260254  11160.955078   \n",
       "410      12129.420000    12054.340000     12116.700000  12116.700000   \n",
       "1047     12043.070312    11867.889648     11878.650391  11878.650391   \n",
       "2594     11201.790039    11120.314941     11158.260254  11160.955078   \n",
       "3260     11201.790039    11120.314941     11158.260254  11160.955078   \n",
       "\n",
       "      AVOIRS_OFFICIELS_DE_RESERVE  Indice MONIA  TAUX MOYEN PONDERE  \\\n",
       "3435                    324.15314         1.403               1.502   \n",
       "410                     324.15314         1.444               1.502   \n",
       "1047                    324.15314         1.444               1.502   \n",
       "2594                    324.15314         1.444               1.502   \n",
       "3260                    324.15314         1.449               1.502   \n",
       "\n",
       "      INFLATION  VOLUME JJ     MOIS  \n",
       "3435   7.128337     3185.0  6.50641  \n",
       "410    7.128337     3185.0  6.50641  \n",
       "1047   7.128337     3185.0  6.50641  \n",
       "2594   7.128337     3185.0  6.50641  \n",
       "3260   7.128337     3185.0  6.50641  "
      ]
     },
     "execution_count": 241,
     "metadata": {},
     "output_type": "execute_result"
    }
   ],
   "source": [
    "X_train.head()"
   ]
  },
  {
   "cell_type": "code",
   "execution_count": 242,
   "id": "3e5813d0",
   "metadata": {},
   "outputs": [
    {
     "data": {
      "text/plain": [
       "3435    11160.955078\n",
       "410     12096.930000\n",
       "1047    11899.620117\n",
       "2594    11160.955078\n",
       "3260    11160.955078\n",
       "Name: COURS_CLOTURE, dtype: float64"
      ]
     },
     "execution_count": 242,
     "metadata": {},
     "output_type": "execute_result"
    }
   ],
   "source": [
    "y_train.head()"
   ]
  },
  {
   "cell_type": "code",
   "execution_count": 243,
   "id": "d30385c4",
   "metadata": {},
   "outputs": [],
   "source": [
    "# Initialiser les modèles\n",
    "linear_model = LinearRegression()\n",
    "random_forest_model = RandomForestRegressor(n_estimators=100, random_state=42)\n",
    "neural_network_model = MLPRegressor(hidden_layer_sizes=(100,), max_iter=500, random_state=42)"
   ]
  },
  {
   "cell_type": "code",
   "execution_count": 244,
   "id": "603e1c52",
   "metadata": {},
   "outputs": [
    {
     "data": {
      "text/html": [
       "<style>#sk-container-id-1 {color: black;}#sk-container-id-1 pre{padding: 0;}#sk-container-id-1 div.sk-toggleable {background-color: white;}#sk-container-id-1 label.sk-toggleable__label {cursor: pointer;display: block;width: 100%;margin-bottom: 0;padding: 0.3em;box-sizing: border-box;text-align: center;}#sk-container-id-1 label.sk-toggleable__label-arrow:before {content: \"▸\";float: left;margin-right: 0.25em;color: #696969;}#sk-container-id-1 label.sk-toggleable__label-arrow:hover:before {color: black;}#sk-container-id-1 div.sk-estimator:hover label.sk-toggleable__label-arrow:before {color: black;}#sk-container-id-1 div.sk-toggleable__content {max-height: 0;max-width: 0;overflow: hidden;text-align: left;background-color: #f0f8ff;}#sk-container-id-1 div.sk-toggleable__content pre {margin: 0.2em;color: black;border-radius: 0.25em;background-color: #f0f8ff;}#sk-container-id-1 input.sk-toggleable__control:checked~div.sk-toggleable__content {max-height: 200px;max-width: 100%;overflow: auto;}#sk-container-id-1 input.sk-toggleable__control:checked~label.sk-toggleable__label-arrow:before {content: \"▾\";}#sk-container-id-1 div.sk-estimator input.sk-toggleable__control:checked~label.sk-toggleable__label {background-color: #d4ebff;}#sk-container-id-1 div.sk-label input.sk-toggleable__control:checked~label.sk-toggleable__label {background-color: #d4ebff;}#sk-container-id-1 input.sk-hidden--visually {border: 0;clip: rect(1px 1px 1px 1px);clip: rect(1px, 1px, 1px, 1px);height: 1px;margin: -1px;overflow: hidden;padding: 0;position: absolute;width: 1px;}#sk-container-id-1 div.sk-estimator {font-family: monospace;background-color: #f0f8ff;border: 1px dotted black;border-radius: 0.25em;box-sizing: border-box;margin-bottom: 0.5em;}#sk-container-id-1 div.sk-estimator:hover {background-color: #d4ebff;}#sk-container-id-1 div.sk-parallel-item::after {content: \"\";width: 100%;border-bottom: 1px solid gray;flex-grow: 1;}#sk-container-id-1 div.sk-label:hover label.sk-toggleable__label {background-color: #d4ebff;}#sk-container-id-1 div.sk-serial::before {content: \"\";position: absolute;border-left: 1px solid gray;box-sizing: border-box;top: 0;bottom: 0;left: 50%;z-index: 0;}#sk-container-id-1 div.sk-serial {display: flex;flex-direction: column;align-items: center;background-color: white;padding-right: 0.2em;padding-left: 0.2em;position: relative;}#sk-container-id-1 div.sk-item {position: relative;z-index: 1;}#sk-container-id-1 div.sk-parallel {display: flex;align-items: stretch;justify-content: center;background-color: white;position: relative;}#sk-container-id-1 div.sk-item::before, #sk-container-id-1 div.sk-parallel-item::before {content: \"\";position: absolute;border-left: 1px solid gray;box-sizing: border-box;top: 0;bottom: 0;left: 50%;z-index: -1;}#sk-container-id-1 div.sk-parallel-item {display: flex;flex-direction: column;z-index: 1;position: relative;background-color: white;}#sk-container-id-1 div.sk-parallel-item:first-child::after {align-self: flex-end;width: 50%;}#sk-container-id-1 div.sk-parallel-item:last-child::after {align-self: flex-start;width: 50%;}#sk-container-id-1 div.sk-parallel-item:only-child::after {width: 0;}#sk-container-id-1 div.sk-dashed-wrapped {border: 1px dashed gray;margin: 0 0.4em 0.5em 0.4em;box-sizing: border-box;padding-bottom: 0.4em;background-color: white;}#sk-container-id-1 div.sk-label label {font-family: monospace;font-weight: bold;display: inline-block;line-height: 1.2em;}#sk-container-id-1 div.sk-label-container {text-align: center;}#sk-container-id-1 div.sk-container {/* jupyter's `normalize.less` sets `[hidden] { display: none; }` but bootstrap.min.css set `[hidden] { display: none !important; }` so we also need the `!important` here to be able to override the default hidden behavior on the sphinx rendered scikit-learn.org. See: https://github.com/scikit-learn/scikit-learn/issues/21755 */display: inline-block !important;position: relative;}#sk-container-id-1 div.sk-text-repr-fallback {display: none;}</style><div id=\"sk-container-id-1\" class=\"sk-top-container\"><div class=\"sk-text-repr-fallback\"><pre>MLPRegressor(max_iter=500, random_state=42)</pre><b>In a Jupyter environment, please rerun this cell to show the HTML representation or trust the notebook. <br />On GitHub, the HTML representation is unable to render, please try loading this page with nbviewer.org.</b></div><div class=\"sk-container\" hidden><div class=\"sk-item\"><div class=\"sk-estimator sk-toggleable\"><input class=\"sk-toggleable__control sk-hidden--visually\" id=\"sk-estimator-id-1\" type=\"checkbox\" checked><label for=\"sk-estimator-id-1\" class=\"sk-toggleable__label sk-toggleable__label-arrow\">MLPRegressor</label><div class=\"sk-toggleable__content\"><pre>MLPRegressor(max_iter=500, random_state=42)</pre></div></div></div></div></div>"
      ],
      "text/plain": [
       "MLPRegressor(max_iter=500, random_state=42)"
      ]
     },
     "execution_count": 244,
     "metadata": {},
     "output_type": "execute_result"
    }
   ],
   "source": [
    "# Entraîner les modèles\n",
    "linear_model.fit(X_train, y_train)\n",
    "random_forest_model.fit(X_train, y_train)\n",
    "neural_network_model.fit(X_train, y_train)"
   ]
  },
  {
   "cell_type": "code",
   "execution_count": 245,
   "id": "0e65e0f2",
   "metadata": {},
   "outputs": [],
   "source": [
    "# Faire des prédictions sur l'ensemble de test\n",
    "linear_predictions = linear_model.predict(X_test)\n",
    "random_forest_predictions = random_forest_model.predict(X_test)\n",
    "neural_network_predictions = neural_network_model.predict(X_test)"
   ]
  },
  {
   "cell_type": "code",
   "execution_count": 246,
   "id": "f10a435c",
   "metadata": {},
   "outputs": [],
   "source": [
    "# Évaluer les performances avec la métrique (ici, l'erreur quadratique moyenne)\n",
    "linear_mse = mean_squared_error(y_test, linear_predictions)\n",
    "random_forest_mse = mean_squared_error(y_test, random_forest_predictions)\n",
    "neural_network_mse = mean_squared_error(y_test, neural_network_predictions)"
   ]
  },
  {
   "cell_type": "code",
   "execution_count": 247,
   "id": "f71aac8e",
   "metadata": {},
   "outputs": [
    {
     "name": "stdout",
     "output_type": "stream",
     "text": [
      "Linear Regression MSE: 519.8571395242961\n",
      "Random Forest MSE: 893.944684980389\n",
      "Neural Network MSE: 1483.4703497155008\n"
     ]
    }
   ],
   "source": [
    "# Afficher les résultats\n",
    "print(f\"Linear Regression MSE: {linear_mse}\")\n",
    "print(f\"Random Forest MSE: {random_forest_mse}\")\n",
    "print(f\"Neural Network MSE: {neural_network_mse}\")"
   ]
  },
  {
   "cell_type": "code",
   "execution_count": 248,
   "id": "9e975ce3",
   "metadata": {},
   "outputs": [
    {
     "data": {
      "image/png": "[encoded data removed]",
      "text/plain": [
       "<Figure size 640x480 with 1 Axes>"
      ]
     },
     "metadata": {},
     "output_type": "display_data"
    }
   ],
   "source": [
    "# Vous pouvez également visualiser les prédictions par rapport aux valeurs réelles\n",
    "plt.scatter(y_test, linear_predictions, label='Linear Regression')\n",
    "plt.scatter(y_test, random_forest_predictions, label='Random Forest')\n",
    "plt.scatter(y_test, neural_network_predictions, label='Neural Network')\n",
    "plt.xlabel('True Values')\n",
    "plt.ylabel('Predictions')\n",
    "plt.legend()\n",
    "plt.show()"
   ]
  },
  {
   "cell_type": "code",
   "execution_count": null,
   "id": "4b1dfd1f",
   "metadata": {},
   "outputs": [],
   "source": []
  }
 ],
 "metadata": {
  "kernelspec": {
   "display_name": "Python 3 (ipykernel)",
   "language": "python",
   "name": "python3"
  },
  "language_info": {
   "codemirror_mode": {
    "name": "ipython",
    "version": 3
   },
   "file_extension": ".py",
   "mimetype": "text/x-python",
   "name": "python",
   "nbconvert_exporter": "python",
   "pygments_lexer": "ipython3",
   "version": "3.11.4"
  }
 },
 "nbformat": 4,
 "nbformat_minor": 5
}
